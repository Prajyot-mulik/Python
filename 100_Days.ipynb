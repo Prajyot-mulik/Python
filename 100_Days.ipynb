{
 "cells": [
  {
   "cell_type": "code",
   "execution_count": 12,
   "id": "1bdbe221",
   "metadata": {},
   "outputs": [
    {
     "name": "stdout",
     "output_type": "stream",
     "text": [
      "Hello world\n"
     ]
    }
   ],
   "source": [
    "print(\"Hello world\")"
   ]
  },
  {
   "cell_type": "code",
   "execution_count": 13,
   "id": "c04633e7",
   "metadata": {},
   "outputs": [
    {
     "name": "stdout",
     "output_type": "stream",
     "text": [
      "hello All\n",
      "This is prajyot\n"
     ]
    }
   ],
   "source": [
    "# Write a statement in new line \n",
    "\n",
    "print(\"hello All\\nThis is prajyot\")"
   ]
  },
  {
   "cell_type": "code",
   "execution_count": 14,
   "id": "d82fc57a",
   "metadata": {},
   "outputs": [
    {
     "name": "stdout",
     "output_type": "stream",
     "text": [
      "hello Prajyot\n"
     ]
    }
   ],
   "source": [
    "# connect string\n",
    "print(\"hello\" + \" \" + \"Prajyot\" )"
   ]
  },
  {
   "cell_type": "code",
   "execution_count": 15,
   "id": "81ee33ef",
   "metadata": {},
   "outputs": [
    {
     "data": {
      "text/plain": [
       "''"
      ]
     },
     "execution_count": 15,
     "metadata": {},
     "output_type": "execute_result"
    }
   ],
   "source": [
    "# Input Function\n",
    "\n",
    "input(\"A prompt for the user\")"
   ]
  },
  {
   "cell_type": "code",
   "execution_count": 16,
   "id": "e9a0f47f",
   "metadata": {},
   "outputs": [
    {
     "name": "stdout",
     "output_type": "stream",
     "text": [
      "hello Prajyot\n"
     ]
    }
   ],
   "source": [
    "print(\"hello\" + \" \" + input(\"your name\"))"
   ]
  },
  {
   "cell_type": "markdown",
   "id": "510cd32c",
   "metadata": {},
   "source": [
    "# Python variables\n"
   ]
  },
  {
   "cell_type": "code",
   "execution_count": 19,
   "id": "6684ed44",
   "metadata": {},
   "outputs": [
    {
     "name": "stdout",
     "output_type": "stream",
     "text": [
      "prajyot\n",
      "7\n"
     ]
    }
   ],
   "source": [
    "a = \"prajyot\"\n",
    "\n",
    "print(a)\n",
    "\n",
    "name = (len(input(\"Enter your name :\")))\n",
    "print(name)"
   ]
  },
  {
   "cell_type": "code",
   "execution_count": 4,
   "id": "a8c1b4c7",
   "metadata": {},
   "outputs": [
    {
     "name": "stdout",
     "output_type": "stream",
     "text": [
      "Welcome to the band Name Generator.\n",
      "Your band name should be Pune King\n"
     ]
    }
   ],
   "source": [
    "print(\"Welcome to the band Name Generator.\")\n",
    "\n",
    "a = input(\"Whats the name of city you are grew up in ?\")\n",
    "b = input(\"Whats your pet name ?\")\n",
    "\n",
    "print(\"Your band name should be \"+ a + \" \" + b)"
   ]
  },
  {
   "cell_type": "code",
   "execution_count": null,
   "id": "ace8e22c",
   "metadata": {},
   "outputs": [],
   "source": []
  }
 ],
 "metadata": {
  "kernelspec": {
   "display_name": "Python 3",
   "language": "python",
   "name": "python3"
  },
  "language_info": {
   "codemirror_mode": {
    "name": "ipython",
    "version": 3
   },
   "file_extension": ".py",
   "mimetype": "text/x-python",
   "name": "python",
   "nbconvert_exporter": "python",
   "pygments_lexer": "ipython3",
   "version": "3.12.10"
  }
 },
 "nbformat": 4,
 "nbformat_minor": 5
}
