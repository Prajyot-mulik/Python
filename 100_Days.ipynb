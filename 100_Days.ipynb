{
 "cells": [
  {
   "cell_type": "code",
   "execution_count": 12,
   "id": "1bdbe221",
   "metadata": {},
   "outputs": [
    {
     "name": "stdout",
     "output_type": "stream",
     "text": [
      "Hello world\n"
     ]
    }
   ],
   "source": [
    "print(\"Hello world\")"
   ]
  },
  {
   "cell_type": "code",
   "execution_count": 13,
   "id": "c04633e7",
   "metadata": {},
   "outputs": [
    {
     "name": "stdout",
     "output_type": "stream",
     "text": [
      "hello All\n",
      "This is prajyot\n"
     ]
    }
   ],
   "source": [
    "# Write a statement in new line \n",
    "\n",
    "print(\"hello All\\nThis is prajyot\")"
   ]
  },
  {
   "cell_type": "code",
   "execution_count": 14,
   "id": "d82fc57a",
   "metadata": {},
   "outputs": [
    {
     "name": "stdout",
     "output_type": "stream",
     "text": [
      "hello Prajyot\n"
     ]
    }
   ],
   "source": [
    "# connect string\n",
    "print(\"hello\" + \" \" + \"Prajyot\" )"
   ]
  },
  {
   "cell_type": "code",
   "execution_count": 15,
   "id": "81ee33ef",
   "metadata": {},
   "outputs": [
    {
     "data": {
      "text/plain": [
       "''"
      ]
     },
     "execution_count": 15,
     "metadata": {},
     "output_type": "execute_result"
    }
   ],
   "source": [
    "# Input Function\n",
    "\n",
    "input(\"A prompt for the user\")"
   ]
  },
  {
   "cell_type": "code",
   "execution_count": 16,
   "id": "e9a0f47f",
   "metadata": {},
   "outputs": [
    {
     "name": "stdout",
     "output_type": "stream",
     "text": [
      "hello Prajyot\n"
     ]
    }
   ],
   "source": [
    "print(\"hello\" + \" \" + input(\"your name\"))"
   ]
  },
  {
   "cell_type": "markdown",
   "id": "510cd32c",
   "metadata": {},
   "source": [
    "# Python variables\n"
   ]
  },
  {
   "cell_type": "code",
   "execution_count": 1,
   "id": "6684ed44",
   "metadata": {},
   "outputs": [
    {
     "name": "stdout",
     "output_type": "stream",
     "text": [
      "prajyot\n",
      "0\n"
     ]
    }
   ],
   "source": [
    "a = \"prajyot\"\n",
    "\n",
    "print(a)\n",
    "\n",
    "name = (len(input(\"Enter your name :\")))\n",
    "print(name)"
   ]
  },
  {
   "cell_type": "code",
   "execution_count": 4,
   "id": "a8c1b4c7",
   "metadata": {},
   "outputs": [
    {
     "name": "stdout",
     "output_type": "stream",
     "text": [
      "Welcome to the band Name Generator.\n",
      "Your band name should be Pune King\n"
     ]
    }
   ],
   "source": [
    "print(\"Welcome to the band Name Generator.\")\n",
    "\n",
    "a = input(\"Whats the name of city you are grew up in ?\")\n",
    "b = input(\"Whats your pet name ?\")\n",
    "\n",
    "print(\"Your band name should be \"+ a + \" \" + b)"
   ]
  },
  {
   "cell_type": "markdown",
   "id": "1645a531",
   "metadata": {},
   "source": [
    "# Data Types\n"
   ]
  },
  {
   "cell_type": "code",
   "execution_count": 11,
   "id": "38646534",
   "metadata": {},
   "outputs": [
    {
     "name": "stdout",
     "output_type": "stream",
     "text": [
      "l\n",
      "123345\n",
      "127\n",
      "123456466\n",
      "3.14254\n",
      "True\n",
      "False\n"
     ]
    }
   ],
   "source": [
    "# Subcripting\n",
    "print(\"Hello\"[-2])\n",
    "\n",
    "# String\n",
    "print(\"123\" + \"345\")\n",
    "\n",
    "# Integer = Whole number\n",
    "print( 67 + 60 )\n",
    "\n",
    "# Large Integer\n",
    "print(123_456_466)\n",
    "\n",
    "#float = floating Points Number\n",
    "print(3.14254)\n",
    "\n",
    "#Boolean\n",
    "print(True)\n",
    "print(False)\n"
   ]
  },
  {
   "cell_type": "markdown",
   "id": "0fcbe9c3",
   "metadata": {},
   "source": [
    "# Type Error, Type Checking and Type Conversion\n"
   ]
  },
  {
   "cell_type": "code",
   "execution_count": null,
   "id": "b1a05c4e",
   "metadata": {},
   "outputs": [
    {
     "name": "stdout",
     "output_type": "stream",
     "text": [
      "The lenght of the user's name :7\n"
     ]
    }
   ],
   "source": [
    "name_of_the_user = input(\"Enter the name :\")\n",
    "\n",
    "len_of_the_name = len(name_of_the_user )\n",
    "\n",
    "print(\"The lenght of the user's name :\"+ str(len_of_the_name))\n"
   ]
  },
  {
   "cell_type": "markdown",
   "id": "72a2d5eb",
   "metadata": {},
   "source": [
    "# Mathamatical Operations in python"
   ]
  },
  {
   "cell_type": "code",
   "execution_count": 3,
   "id": "33e4294d",
   "metadata": {},
   "outputs": [
    {
     "name": "stdout",
     "output_type": "stream",
     "text": [
      "My age : 22\n",
      "7\n",
      "-6\n",
      "1.875\n",
      "81\n",
      "1530\n"
     ]
    }
   ],
   "source": [
    "print(\"My age : \" + str(22))\n",
    "\n",
    "print( 3 + 4)\n",
    "print (3-9)\n",
    "print(45 / 24)\n",
    "print(3 ** 4)\n",
    "print(34 * 45)\n"
   ]
  },
  {
   "cell_type": "markdown",
   "id": "f46928e7",
   "metadata": {},
   "source": [
    "# F String "
   ]
  },
  {
   "cell_type": "code",
   "execution_count": 5,
   "id": "82c084f3",
   "metadata": {},
   "outputs": [
    {
     "name": "stdout",
     "output_type": "stream",
     "text": [
      "Your score is 4 and height is 1.67 that why you are True\n"
     ]
    }
   ],
   "source": [
    "score = 4\n",
    "height = 1.67\n",
    "is_winning = True\n",
    "\n",
    "print(f\"Your score is {score} and height is {height} that why you are {is_winning}\")"
   ]
  },
  {
   "cell_type": "markdown",
   "id": "db1e1cff",
   "metadata": {},
   "source": [
    "# Control Flow with if / else and Conditional Operators"
   ]
  },
  {
   "cell_type": "code",
   "execution_count": 7,
   "id": "0aab689b",
   "metadata": {},
   "outputs": [
    {
     "name": "stdout",
     "output_type": "stream",
     "text": [
      "welcome to rollercoaster!\n",
      "You can ride the rollercoster\n"
     ]
    }
   ],
   "source": [
    "print(\"welcome to rollercoaster!\")\n",
    "height = int(input(\"What is your height in cm?\"))\n",
    "\n",
    "if height > 120:\n",
    "    print(\"You can ride the rollercoster\")\n",
    "else:\n",
    "    print(\"sorry you can't ride\")    "
   ]
  },
  {
   "cell_type": "markdown",
   "id": "58b095cc",
   "metadata": {},
   "source": [
    "# Introducing the modulo"
   ]
  },
  {
   "cell_type": "code",
   "execution_count": 8,
   "id": "0df38541",
   "metadata": {},
   "outputs": [
    {
     "name": "stdout",
     "output_type": "stream",
     "text": [
      "Check your number is ODD or EVEN--->\n",
      "you enter even number\n"
     ]
    }
   ],
   "source": [
    "\"%\"\n",
    "\n",
    "print(\"Check your number is ODD or EVEN--->\")\n",
    "num  = int(input(\"Enter your number :\"))\n",
    "\n",
    "if num % 2 == 0:\n",
    "    print(\"you enter even number\")\n",
    "\n",
    "else:\n",
    "    print(\"you enter the odd number\")    "
   ]
  },
  {
   "cell_type": "markdown",
   "id": "9af997a7",
   "metadata": {},
   "source": [
    "# Nested if statement and elif statement"
   ]
  },
  {
   "cell_type": "code",
   "execution_count": 5,
   "id": "1ea5c867",
   "metadata": {},
   "outputs": [
    {
     "name": "stdout",
     "output_type": "stream",
     "text": [
      "Welcome to the rollercoaster!\n",
      "Your Can Ride Rollercoaster!\n",
      "Pay 10$ to ride!\n"
     ]
    }
   ],
   "source": [
    "print(\"Welcome to the rollercoaster!\")\n",
    "\n",
    "height = int(input(\"Enter you height:\"))\n",
    "if height >= 120 :\n",
    "    print(\"Your Can Ride Rollercoaster!\")\n",
    "    age = int(input(\"Enter a age :\"))\n",
    "    if age <= 12:\n",
    "        print(\"Pay 5$ to ride\")\n",
    "\n",
    "    elif age <= 18 :\n",
    "        print(\"Pay 10$ to ride!\")\n",
    "else:\n",
    "    print(\"Sorry you can't ride grow taller to ride!\")        "
   ]
  },
  {
   "cell_type": "markdown",
   "id": "e6096d97",
   "metadata": {},
   "source": [
    "# Multiple if statement in succession"
   ]
  },
  {
   "cell_type": "code",
   "execution_count": 7,
   "id": "3f45f944",
   "metadata": {},
   "outputs": [
    {
     "name": "stdout",
     "output_type": "stream",
     "text": [
      "Welcome to the rollercoaster!\n",
      "Your Can Ride Rollercoaster!\n"
     ]
    }
   ],
   "source": [
    "print(\"Welcome to the rollercoaster!\")\n",
    "\n",
    "height = int(input(\"Enter you height:\"))\n",
    "if height >= 120 :\n",
    "    print(\"Your Can Ride Rollercoaster!\")\n",
    "    age = int(input(\"Enter a age :\"))\n",
    "    bill = 0 \n",
    "    if age <= 12:\n",
    "        bill = 5\n",
    "        print(\"Pay 5$ to ride\")\n",
    "\n",
    "    elif age <= 18 :\n",
    "        bill = 18 \n",
    "        print(\"Pay 10$ to ride!\")\n",
    "\n",
    "    want_photo = input(\"Do you want to take a photo ? type y for yes and n for no\") \n",
    "    if want_photo == \"Y\":\n",
    "        bill += 3  \n",
    "        print(\"your final bill is \", bill)     \n",
    "else:\n",
    "    print(\"Sorry you can't ride grow taller to ride!\")  \n",
    "\n",
    "    "
   ]
  },
  {
   "cell_type": "code",
   "execution_count": 17,
   "id": "42aff5a9",
   "metadata": {},
   "outputs": [
    {
     "name": "stdout",
     "output_type": "stream",
     "text": [
      "Welcome to python pizza Deliveries!\n",
      "your final bill is  22\n"
     ]
    }
   ],
   "source": [
    "print(\"Welcome to python pizza Deliveries!\")\n",
    "size = input(\"what size pizza you want S , M or L:\")\n",
    "extra_cheese = input(\"Do you want extra cheese? Y or N:\")\n",
    "pepopperioni = input(\"Do you want pepopperioni type  Y for yes and N for no :\")\n",
    "bill = 0 \n",
    "\n",
    "if size == \"S\" :\n",
    "    \n",
    "    bill += 15\n",
    "\n",
    "elif size == \"M\":\n",
    "    \n",
    "    bill +=  20\n",
    "\n",
    "elif size == \"L\":\n",
    "    \n",
    "    bill += 25 \n",
    "\n",
    "else:\n",
    "    print(\"invalid type selected\")\n",
    "\n",
    "if pepopperioni == \"Y\":\n",
    "    bill +=1    \n",
    "\n",
    "if  extra_cheese == \"Y\" :\n",
    "    bill += 1 \n",
    "\n",
    "else:\n",
    "    bill \n",
    "\n",
    "print(\"your final bill is \" , bill)               "
   ]
  },
  {
   "cell_type": "markdown",
   "id": "fdeb9758",
   "metadata": {},
   "source": [
    "# Logical Operators"
   ]
  },
  {
   "cell_type": "code",
   "execution_count": 23,
   "id": "7af383b8",
   "metadata": {},
   "outputs": [
    {
     "name": "stdout",
     "output_type": "stream",
     "text": [
      "B\n"
     ]
    }
   ],
   "source": [
    "a = 12\n",
    "a > 10 and a < 10 #false\n",
    "\n",
    "a > 11 and a  > 11 #True\n",
    "\n",
    "a > 11 and a < 80 #True\n",
    "\n",
    "False or True or False\n",
    "\n",
    "\n",
    "a = 5\n",
    "b = 7\n",
    "\n",
    "if a >= b and a !=b : # false and true\n",
    "    print(\"A\")\n",
    "\n",
    "\n",
    "elif not a >=b and a != b:\n",
    "    print(\"B\")\n",
    "\n",
    "else:\n",
    "    print(\"c\")    \n",
    "    \n",
    "\n"
   ]
  },
  {
   "cell_type": "markdown",
   "id": "1946111b",
   "metadata": {},
   "source": [
    "# Random Module\n",
    "\n",
    "## What is module \n",
    "\n",
    "### predifed code that already have some functionality "
   ]
  },
  {
   "cell_type": "code",
   "execution_count": 42,
   "id": "a7242cdd",
   "metadata": {},
   "outputs": [
    {
     "name": "stdout",
     "output_type": "stream",
     "text": [
      "12\n"
     ]
    }
   ],
   "source": [
    "import random\n",
    "\n",
    "RI = random.randint(1, 19)\n",
    "print(RI)"
   ]
  },
  {
   "cell_type": "markdown",
   "id": "ffd37cc0",
   "metadata": {},
   "source": [
    "## Understanding the offset and appending items to Lists"
   ]
  },
  {
   "cell_type": "code",
   "execution_count": 49,
   "id": "84a7f3bb",
   "metadata": {},
   "outputs": [
    {
     "name": "stdout",
     "output_type": "stream",
     "text": [
      "UP\n",
      "['Maharashtra', 'Gujrat', 'Delhi', 'UP', 'Bihar', 'panjab', 'Karnataka', 'demo2', 'demo1']\n"
     ]
    }
   ],
   "source": [
    "states_of_india = [ \"Maharashtra\" , \"Gujrat\" , \"Delhi\" , \"UP\" , \"Bihar\" , \"panjab\"]\n",
    "\n",
    "print(states_of_india[3])\n",
    "\n",
    "states_of_india.append(\"Karnataka\")\n",
    "states_of_india.extend([\"demo2\" , \"demo1\"])\n",
    "\n",
    "print(states_of_india)"
   ]
  },
  {
   "cell_type": "markdown",
   "id": "daa7c115",
   "metadata": {},
   "source": [
    "### Who will pay the bill ?"
   ]
  },
  {
   "cell_type": "code",
   "execution_count": 76,
   "id": "ff451861",
   "metadata": {},
   "outputs": [
    {
     "name": "stdout",
     "output_type": "stream",
     "text": [
      "Ashitosh\n",
      "Rohan\n"
     ]
    }
   ],
   "source": [
    "import random\n",
    "friends = [ \"Prajyot\" , \"ABh\" , \"Shreyash\" , \"Ashitosh\", \"Rohan\"]\n",
    "\n",
    "#option 1\n",
    "print(random.choice(friends))\n",
    "\n",
    "#option2\n",
    "RI = random.randint(0, 4)\n",
    "print(friends[RI])"
   ]
  },
  {
   "cell_type": "markdown",
   "id": "4a1e04af",
   "metadata": {},
   "source": [
    "# IndexError and Working with Nested Lists\n"
   ]
  },
  {
   "cell_type": "code",
   "execution_count": 6,
   "id": "2f3b9552",
   "metadata": {},
   "outputs": [
    {
     "name": "stdout",
     "output_type": "stream",
     "text": [
      "4\n",
      "d\n"
     ]
    }
   ],
   "source": [
    "list = [\"a\" , \"b\" , \"c\" , \"d\"]\n",
    "\n",
    "print(len(list))\n",
    "\n",
    "print(list[4-1])"
   ]
  },
  {
   "cell_type": "markdown",
   "id": "01d4cea2",
   "metadata": {},
   "source": [
    "### check your email hacked or not\n",
    "#### https://haveibeenpwned.com/"
   ]
  },
  {
   "cell_type": "markdown",
   "id": "66104bee",
   "metadata": {},
   "source": [
    "# Using the for loop with Python lists"
   ]
  },
  {
   "cell_type": "code",
   "execution_count": 11,
   "id": "f81170b9",
   "metadata": {},
   "outputs": [
    {
     "name": "stdout",
     "output_type": "stream",
     "text": [
      "['Apple', 'Banana', 'Bear']\n",
      "Applepie \n",
      "['Apple', 'Banana', 'Bear']\n",
      "Bananapie \n",
      "['Apple', 'Banana', 'Bear']\n",
      "Bearpie \n"
     ]
    }
   ],
   "source": [
    "fruits = [\"Apple\" , \"Banana\" , \"Bear\"]\n",
    "\n",
    "for fruit in fruits:\n",
    "    print(fruits )\n",
    "    print(fruit + \"pie \")\n"
   ]
  },
  {
   "cell_type": "markdown",
   "id": "992f7c1c",
   "metadata": {},
   "source": [
    "# Highest Score exersice \n"
   ]
  },
  {
   "cell_type": "code",
   "execution_count": 22,
   "id": "8d6dd15d",
   "metadata": {},
   "outputs": [
    {
     "name": "stdout",
     "output_type": "stream",
     "text": [
      "192\n"
     ]
    }
   ],
   "source": [
    "student_scrores = [ 150 , 142 , 185, 120 , 156 , 183 , 192 , 102 ,183, 128 ,145, 123, 126, 128, 122 , 111]\n",
    "\n",
    "# Total_scrore = sum(student_scrores)\n",
    "# print(Total_scrore)\n",
    "\n",
    "# sum = 0 \n",
    "\n",
    "max_scrore = 0 \n",
    "for score in student_scrores:\n",
    "    # sum += score\n",
    "    if score > max_scrore:\n",
    "        max_scrore = score\n",
    "\n",
    "print(max_scrore)    \n"
   ]
  },
  {
   "cell_type": "markdown",
   "id": "699f0438",
   "metadata": {},
   "source": [
    "# for loops and the range() function "
   ]
  },
  {
   "cell_type": "code",
   "execution_count": 29,
   "id": "9b9874e7",
   "metadata": {},
   "outputs": [
    {
     "name": "stdout",
     "output_type": "stream",
     "text": [
      "8\n"
     ]
    }
   ],
   "source": [
    "#range function\n",
    "\n",
    "for num in range(8,9  ):\n",
    "    print(num)"
   ]
  },
  {
   "cell_type": "code",
   "execution_count": 31,
   "id": "0e4a3d06",
   "metadata": {},
   "outputs": [
    {
     "name": "stdout",
     "output_type": "stream",
     "text": [
      "5050\n"
     ]
    }
   ],
   "source": [
    "total = 0\n",
    "\n",
    "for num in range(1, 101):\n",
    "    total += num\n",
    "\n",
    "print(total)"
   ]
  },
  {
   "cell_type": "code",
   "execution_count": 36,
   "id": "5465a6da",
   "metadata": {},
   "outputs": [
    {
     "name": "stdout",
     "output_type": "stream",
     "text": [
      "1\n",
      "2\n",
      "\n",
      "FizzBuzz\n",
      "4\n",
      "\n",
      "Buzz\n",
      "\n",
      "FizzBuzz\n",
      "7\n",
      "8\n",
      "\n",
      "FizzBuzz\n",
      "\n",
      "Buzz\n",
      "11\n",
      "\n",
      "FizzBuzz\n",
      "13\n",
      "14\n",
      "\n",
      "FizzBuzz\n",
      "16\n",
      "17\n",
      "\n",
      "FizzBuzz\n",
      "19\n",
      "\n",
      "Buzz\n",
      "\n",
      "FizzBuzz\n",
      "22\n",
      "23\n",
      "\n",
      "FizzBuzz\n",
      "\n",
      "Buzz\n",
      "26\n",
      "\n",
      "FizzBuzz\n",
      "28\n",
      "29\n",
      "\n",
      "FizzBuzz\n",
      "31\n",
      "32\n",
      "\n",
      "FizzBuzz\n",
      "34\n",
      "\n",
      "Buzz\n",
      "\n",
      "FizzBuzz\n",
      "37\n",
      "38\n",
      "\n",
      "FizzBuzz\n",
      "\n",
      "Buzz\n",
      "41\n",
      "\n",
      "FizzBuzz\n",
      "43\n",
      "44\n",
      "\n",
      "FizzBuzz\n",
      "46\n",
      "47\n",
      "\n",
      "FizzBuzz\n",
      "49\n",
      "\n",
      "Buzz\n",
      "\n",
      "FizzBuzz\n",
      "52\n",
      "53\n",
      "\n",
      "FizzBuzz\n",
      "\n",
      "Buzz\n",
      "56\n",
      "\n",
      "FizzBuzz\n",
      "58\n",
      "59\n",
      "\n",
      "FizzBuzz\n",
      "61\n",
      "62\n",
      "\n",
      "FizzBuzz\n",
      "64\n",
      "\n",
      "Buzz\n",
      "\n",
      "FizzBuzz\n",
      "67\n",
      "68\n",
      "\n",
      "FizzBuzz\n",
      "\n",
      "Buzz\n",
      "71\n",
      "\n",
      "FizzBuzz\n",
      "73\n",
      "74\n",
      "\n",
      "FizzBuzz\n",
      "76\n",
      "77\n",
      "\n",
      "FizzBuzz\n",
      "79\n",
      "\n",
      "Buzz\n",
      "\n",
      "FizzBuzz\n",
      "82\n",
      "83\n",
      "\n",
      "FizzBuzz\n",
      "\n",
      "Buzz\n",
      "86\n",
      "\n",
      "FizzBuzz\n",
      "88\n",
      "89\n",
      "\n",
      "FizzBuzz\n",
      "91\n",
      "92\n",
      "\n",
      "FizzBuzz\n",
      "94\n",
      "\n",
      "Buzz\n",
      "\n",
      "FizzBuzz\n",
      "97\n",
      "98\n",
      "\n",
      "FizzBuzz\n",
      "\n",
      "Buzz\n"
     ]
    }
   ],
   "source": [
    "for num in range( 1 , 101):\n",
    "    if num % 3 == 0 & num % 5 ==0 :\n",
    "        print(\"\\nFizzBuzz\")\n",
    "\n",
    "    elif num % 3== 0:\n",
    "        print(\"\\nFizz\")\n",
    "\n",
    "    elif num % 5 == 0:\n",
    "        print(\"\\nBuzz\")\n",
    "\n",
    "    else:\n",
    "        print(num)    "
   ]
  },
  {
   "cell_type": "markdown",
   "id": "c43c5a34",
   "metadata": {},
   "source": [
    "# Functions\n",
    "#### https://docs.python.org/3/library/functions.html"
   ]
  },
  {
   "cell_type": "code",
   "execution_count": 7,
   "id": "07ea401e",
   "metadata": {},
   "outputs": [
    {
     "name": "stdout",
     "output_type": "stream",
     "text": [
      "hello\n",
      "bye\n"
     ]
    }
   ],
   "source": [
    "#def my_function():\n",
    "    #do this \n",
    "    #Then do this \n",
    "    #finally do this \n",
    "\n",
    "\n",
    "\n",
    "\n",
    "def my_function():\n",
    "    print(\"hello\")\n",
    "    print(\"bye\")\n",
    "\n",
    "my_function()    "
   ]
  },
  {
   "cell_type": "markdown",
   "id": "d0ba3b45",
   "metadata": {},
   "source": [
    "# Indentation"
   ]
  },
  {
   "cell_type": "code",
   "execution_count": null,
   "id": "09481b55",
   "metadata": {},
   "outputs": [],
   "source": [
    "sky = 0\n",
    "def my_function():\n",
    "    if sky == \"clear\":\n",
    "        print(\"blue\")\n",
    "\n",
    "    elif sky == \"cloudy\":\n",
    "        print(\"gery\")\n",
    "\n",
    "    print(\"hello\")\n",
    "\n",
    "\n",
    "#spaces VS Tabs\n",
    "\n"
   ]
  },
  {
   "cell_type": "markdown",
   "id": "45e13834",
   "metadata": {},
   "source": [
    "# While loop"
   ]
  },
  {
   "cell_type": "markdown",
   "id": "26171281",
   "metadata": {},
   "source": [
    "\n",
    "https://reeborg.ca/reeborg.html?lang=en&mode=python&menu=worlds%2Fmenus%2Freeborg_intro_en.json&name=Hurdle%204&url=worlds%2Ftutorial_en%2Fhurdle4.json"
   ]
  },
  {
   "cell_type": "code",
   "execution_count": 2,
   "id": "3788b281",
   "metadata": {},
   "outputs": [],
   "source": [
    "# def turn_right():\n",
    "#     turn_left()\n",
    "#     turn_left()\n",
    "#     turn_left()\n",
    "\n",
    "    \n",
    "# def jump():\n",
    "#     turn_left()\n",
    "#     while wall_on_right():\n",
    "#         move()\n",
    "        \n",
    "#     turn_right()\n",
    "#     move()\n",
    "#     turn_right()\n",
    "    \n",
    "#     while front_is_clear():\n",
    "#         move()\n",
    "    \n",
    "# while not at_goal():\n",
    "#     if wall_in_front():\n",
    "#         jump()\n",
    "#     else:\n",
    "#         move()\n",
    " "
   ]
  },
  {
   "cell_type": "markdown",
   "id": "d577caa9",
   "metadata": {},
   "source": []
  }
 ],
 "metadata": {
  "kernelspec": {
   "display_name": "Python 3",
   "language": "python",
   "name": "python3"
  },
  "language_info": {
   "codemirror_mode": {
    "name": "ipython",
    "version": 3
   },
   "file_extension": ".py",
   "mimetype": "text/x-python",
   "name": "python",
   "nbconvert_exporter": "python",
   "pygments_lexer": "ipython3",
   "version": "3.12.10"
  }
 },
 "nbformat": 4,
 "nbformat_minor": 5
}
